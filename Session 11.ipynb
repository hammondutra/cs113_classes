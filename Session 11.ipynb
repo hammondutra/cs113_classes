{
 "cells": [
  {
   "cell_type": "code",
   "execution_count": 6,
   "id": "587b98a6",
   "metadata": {
    "vscode": {
     "languageId": "sage"
    }
   },
   "outputs": [],
   "source": [
    "def gram_schmidt_R(vectors):\n",
    "    \"\"\"\n",
    "    Performs the Gram–Schmidt process on a list of real SageMath vectors\n",
    "    to produce an orthonormal basis.\n",
    "\n",
    "    Parameters\n",
    "    ----------\n",
    "    vectors : list[Vector]\n",
    "        A list of linearly independent SageMath vectors over RR.\n",
    "\n",
    "    Returns\n",
    "    -------\n",
    "    list[Vector]\n",
    "        An orthonormal list of vectors spanning the same subspace as the input.\n",
    "    \"\"\"\n",
    "    def dot(u, v):\n",
    "        return sum(ui * vi for ui, vi in zip(u, v))\n",
    "\n",
    "    orthonormal_basis = []\n",
    "    for v in vectors:\n",
    "        # Subtract projections onto previous basis vectors\n",
    "        for u in orthonormal_basis:\n",
    "            v = v - dot(v, u) * u\n",
    "        # Normalize\n",
    "        v = v / sqrt(dot(v, v))\n",
    "        orthonormal_basis.append(v)\n",
    "\n",
    "    return orthonormal_basis\n"
   ]
  },
  {
   "cell_type": "code",
   "execution_count": 8,
   "id": "a164f1e1",
   "metadata": {
    "vscode": {
     "languageId": "sage"
    }
   },
   "outputs": [
    {
     "name": "stdout",
     "output_type": "stream",
     "text": [
      "u1 = (0.707106781186547, 0.707106781186547, 0.000000000000000) ‖u1‖² = 1.00000000000000\n",
      "u2 = (0.408248290463863, -0.408248290463863, 0.816496580927726) ‖u2‖² = 1.00000000000000\n",
      "u3 = (-0.577350269189626, 0.577350269189626, 0.577350269189626) ‖u3‖² = 1.00000000000000\n"
     ]
    }
   ],
   "source": [
    "v1 = vector(RR, [1, 1, 0])\n",
    "v2 = vector(RR, [1, 0, 1])\n",
    "v3 = vector(RR, [0, 1, 1])\n",
    "\n",
    "basis = gram_schmidt_R([v1, v2, v3])\n",
    "for i, b in enumerate(basis, start=1):\n",
    "    print(f\"u{i} =\", b, f\"‖u{i}‖² =\", b.dot_product(b))"
   ]
  }
 ],
 "metadata": {
  "kernelspec": {
   "display_name": "SageMath 10.7",
   "language": "sage",
   "name": "SageMath-10.7"
  },
  "language_info": {
   "codemirror_mode": {
    "name": "ipython",
    "version": 3
   },
   "file_extension": ".py",
   "mimetype": "text/x-python",
   "name": "python",
   "nbconvert_exporter": "python",
   "pygments_lexer": "ipython3",
   "version": "3.13.3"
  }
 },
 "nbformat": 4,
 "nbformat_minor": 5
}
