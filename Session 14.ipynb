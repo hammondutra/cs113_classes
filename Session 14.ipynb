{
 "cells": [
  {
   "cell_type": "code",
   "execution_count": 7,
   "id": "1cca6d52",
   "metadata": {
    "vscode": {
     "languageId": "sage"
    }
   },
   "outputs": [
    {
     "data": {
      "text/plain": [
       "[1 0 0]\n",
       "[0 1 0]\n",
       "[0 0 1]"
      ]
     },
     "execution_count": 7,
     "metadata": {},
     "output_type": "execute_result"
    }
   ],
   "source": [
    "# Getting the rank of a matrix\n",
    "\n",
    "M = matrix(QQ, [[1, 2, 3],\n",
    "                [0, 1, 0],\n",
    "                [1, 2, 5]])\n",
    "\n",
    "M.rref()"
   ]
  },
  {
   "cell_type": "code",
   "execution_count": 8,
   "id": "34339837",
   "metadata": {
    "vscode": {
     "languageId": "sage"
    }
   },
   "outputs": [
    {
     "data": {
      "text/plain": [
       "[1 0 1|0]\n",
       "[0 1 1|0]\n",
       "[0 0 0|0]"
      ]
     },
     "execution_count": 8,
     "metadata": {},
     "output_type": "execute_result"
    }
   ],
   "source": [
    "# Find N(A)\n",
    "\n",
    "A = matrix(QQ, [[1, 2, 3],\n",
    "                [1, 0, 1],\n",
    "                [3, 6, 9]])\n",
    "\n",
    "A = A.augment(vector(QQ, [0, 0, 0]), subdivide=True)\n",
    "A.rref()"
   ]
  },
  {
   "cell_type": "code",
   "execution_count": 9,
   "id": "b676ceaf",
   "metadata": {
    "vscode": {
     "languageId": "sage"
    }
   },
   "outputs": [
    {
     "data": {
      "text/plain": [
       "[1 0 0 1 0 1|0]\n",
       "[0 0 1 0 0 1|0]\n",
       "[0 0 0 0 1 0|0]\n",
       "[0 0 0 0 0 0|0]"
      ]
     },
     "execution_count": 9,
     "metadata": {},
     "output_type": "execute_result"
    }
   ],
   "source": [
    "A = matrix(QQ, [[1, 0, 0, 1, 0, 1],\n",
    "                [0, 0, 1, 0, 0, 1],\n",
    "                [0, 0, 0, 0, 1, 0],\n",
    "                [0, 0, 0, 0, 0, 0]])\n",
    "\n",
    "A = A.augment(vector(QQ, [0, 0, 0, 0]), subdivide=True)\n",
    "A.rref()"
   ]
  },
  {
   "cell_type": "code",
   "execution_count": 10,
   "id": "38b1d1b8",
   "metadata": {
    "vscode": {
     "languageId": "sage"
    }
   },
   "outputs": [
    {
     "data": {
      "text/plain": [
       "(\n",
       "[ 1 -1]  [1 0]\n",
       "[ 2  0]  [0 1]\n",
       "[ 2  4], [0 0]\n",
       ")"
      ]
     },
     "execution_count": 10,
     "metadata": {},
     "output_type": "execute_result"
    }
   ],
   "source": [
    "# Guided example.\n",
    "\n",
    "\"\"\"\n",
    "Find a basis for each of the four fundamental subspaces of A:\n",
    "[1, -1]\n",
    "[2,  0]\n",
    "[2,  4]\n",
    "\"\"\"\n",
    "\n",
    "# Let's start with the column space:\n",
    "A = matrix([[1,-1], [2,0], [2,4]])\n",
    "A, A.rref()"
   ]
  }
 ],
 "metadata": {
  "kernelspec": {
   "display_name": "SageMath 10.7",
   "language": "sage",
   "name": "SageMath-10.7"
  },
  "language_info": {
   "codemirror_mode": {
    "name": "ipython",
    "version": 3
   },
   "file_extension": ".py",
   "mimetype": "text/x-python",
   "name": "python",
   "nbconvert_exporter": "python",
   "pygments_lexer": "ipython3",
   "version": "3.13.3"
  }
 },
 "nbformat": 4,
 "nbformat_minor": 5
}
