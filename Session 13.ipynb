{
 "cells": [
  {
   "cell_type": "code",
   "execution_count": 1,
   "id": "b78da450",
   "metadata": {
    "vscode": {
     "languageId": "sage"
    }
   },
   "outputs": [
    {
     "name": "stdout",
     "output_type": "stream",
     "text": [
      "[   1    0| 6/7]\n",
      "[   0    1|-1/7]\n",
      "[    1     0|11/38]\n",
      "[    0     1| 7/38]\n"
     ]
    }
   ],
   "source": [
    "'''\n",
    "c1*v1 + c2*v2 = (1, 2)\n",
    "c1*(2, 3) + c2*(5, 4) = (1, 2)\n",
    "Putting these into a coefficient matrix form\n",
    "'''\n",
    "\n",
    "M = matrix(QQ, [[2, 5],\n",
    "                [3, 4]])\n",
    "M = M.augment(vector(QQ, [1, 2]), subdivide=True)\n",
    "print(M.rref())\n",
    "\n",
    "M = matrix(QQ, [[-1, 7],\n",
    "                [5, 3]])\n",
    "M = M.augment(vector(QQ, [1, 2]), subdivide=True)\n",
    "print(M.rref())\n",
    "\n",
    "answer_s1 = vector(QQ, [(6/7), -(1/7)])\n",
    "answer_s2 = vector(QQ, [11/38, 7/38])"
   ]
  },
  {
   "cell_type": "code",
   "execution_count": 2,
   "id": "d2529ef3",
   "metadata": {
    "vscode": {
     "languageId": "sage"
    }
   },
   "outputs": [],
   "source": [
    "\"\"\"\n",
    "Representing v1, v2, and v3 in terms of the basis E = {(1, 0, 0), (0, 1, 0), (0, 0, 1)}, we get:\n",
    "v1 = (3, 1, 4)\n",
    "v2 = (1, 5, 9)\n",
    "v3 = (2, 6, 5)\n",
    "\n",
    "Now, we can assemble the matrix P_{S \\to E}:\n",
    "[  |  |  | ]\n",
    "[ v1 v2 v3 ]\n",
    "[  |  |  | ]\n",
    "\n",
    "This gives us:\n",
    "[  3  1  2 ]\n",
    "[  1  5  6 ]\n",
    "[  4  9  5 ]\n",
    "\"\"\"\n",
    "\n",
    "P = matrix(QQ, [[3, 1, 2], [1, 5, 6], [4, 9, 5]])"
   ]
  },
  {
   "cell_type": "code",
   "execution_count": 3,
   "id": "058ca74c",
   "metadata": {
    "vscode": {
     "languageId": "sage"
    }
   },
   "outputs": [],
   "source": [
    "\"\"\"\n",
    "Given the identity: Q = P^(-1), we can just calculate the inverse of P\n",
    "[ 29/90 -13/90   2/45]\n",
    "[-19/90  -7/90   8/45]\n",
    "[ 11/90  23/90  -7/45]\n",
    "\"\"\"\n",
    "\n",
    "Q = P^(-1)"
   ]
  },
  {
   "cell_type": "code",
   "execution_count": 4,
   "id": "01c32d80",
   "metadata": {
    "vscode": {
     "languageId": "sage"
    }
   },
   "outputs": [
    {
     "name": "stdout",
     "output_type": "stream",
     "text": [
      "[   1    0    0|   0]\n",
      "[   0    1    0|12/5]\n",
      "[   0    0    1|-1/5]\n",
      "[   1    0    0| 9/2]\n",
      "[   0    1    0| 5/4]\n",
      "[   0    0    1|-5/4]\n"
     ]
    }
   ],
   "source": [
    "\"\"\"\n",
    "w_s = c1v1 + c2v2 + c3v3\n",
    "w_t = d1u1 + d2u2 + d3u3\n",
    "\n",
    "Solving for w_s:\n",
    "w_s = c1*(1, 1, 1) + c2*(1, 2, 3) + c3*(2, -1, 1) = (2, 5, 7)\n",
    "Representing this in a coefficient matrix:\n",
    "[1, 1,  2 | 2]\n",
    "[1, 2, -1 | 5]\n",
    "[1, 3,  1 | 7]\n",
    "\n",
    "Reducing the matrix to RREF form, we get:\n",
    "[   1    0    0|   0]\n",
    "[   0    1    0|12/5]\n",
    "[   0    0    1|-1/5]\n",
    "\n",
    "This means that: [w]_s = (0*v1, 12/5*v2, -1/5*v3)\n",
    "\n",
    "Solving for w_t:\n",
    "w_s = c1*(1, 0, 1) + c2*(1, 3, 2) + c3*(3, -1, 0) = (2, 5, 7)\n",
    "Representing this in a coefficient matrix:\n",
    "[1, 1,  3 | 2]\n",
    "[0, 3, -1 | 5]\n",
    "[1, 2,  0 | 7]\n",
    "\n",
    "Reducing the matrix to RREF form, we get:\n",
    "[   1    0    0|  9/2]\n",
    "[   0    1    0|  5/4]\n",
    "[   0    0    1| -5/4]\n",
    "\n",
    "This means that: [w]_t = (9/2*u1, 5/4*u2, -5/4*u3)\n",
    "\n",
    "\"\"\"\n",
    "# Solving for w_s:\n",
    "M = matrix(QQ, [[1, 1,  2],\n",
    "                [1, 2, -1],\n",
    "                [1, 3,  1]])\n",
    "M = M.augment(vector(QQ, [2, 5, 7]), subdivide=True)\n",
    "print(M.rref())\n",
    "\n",
    "# Solving for w_t:\n",
    "M = matrix(QQ, [[1, 1,  3],\n",
    "                [0, 3, -1],\n",
    "                [1, 2,  0]])\n",
    "M = M.augment(vector(QQ, [2, 5, 7]), subdivide=True)\n",
    "print(M.rref())\n",
    "\n",
    "answer_s = vector(QQ, [0, 12/5, -1/5])\n",
    "answer_t = vector(QQ, [9/2, 5/4, -5/4])"
   ]
  },
  {
   "cell_type": "code",
   "execution_count": 5,
   "id": "592683cd",
   "metadata": {
    "vscode": {
     "languageId": "sage"
    }
   },
   "outputs": [
    {
     "name": "stdout",
     "output_type": "stream",
     "text": [
      "[   1    0    0| 3/2]\n",
      "[   0    1    0|-1/4]\n",
      "[   0    0    1| 1/4]\n",
      "(9/2, 5/4, -5/4)\n"
     ]
    }
   ],
   "source": [
    "\"\"\"\n",
    "To find the conversion matrix P_st, we need to use the identity:\n",
    "P_st = [[v1]t , [v2]t, [v3]t]\n",
    "\n",
    "v1t = c1*u1 + c2*u2 + c3*u3 = (1, 1, 1)\n",
    "v2t = d1*u1 + d2*u2 + d3*u3 = (1, 2, 3)\n",
    "v3t = e1*u1 + e2*u2 + e3*u3 = (2, -1, 1)\n",
    "\n",
    "v1t = c1*(1, 0, 1) + c2*(1, 3, 2) + c3*(3, -1, 0) = (1, 1, 1)\n",
    "v2t = d1*(1, 0, 1) + d2*(1, 3, 2) + d3*(3, -1, 0) = (1, 2, 3)\n",
    "v3t = e1*(1, 0, 1) + e2*(1, 3, 2) + e3*(3, -1, 0) = (2, -1, 1)\n",
    "\n",
    "Converting these to a coefficient matrix form, we get v1t = \n",
    "[ 1  1  3 | x ]\n",
    "[ 0  3 -1 | y ]\n",
    "[ 1  2  0 | z ]\n",
    "\n",
    "To rref: \n",
    "v1t = [1/4, 3/8, 1/8]\n",
    "v2t = [2, 1/2, -1/2]\n",
    "v3t = [3/2, -1/4, 1/4]\n",
    "\n",
    "Then, we can use v1t, v2t, and v3t to write the matrix for P_st:\n",
    "[  |   |   | ]\n",
    "[ v1t v2t v3t ]\n",
    "[  |   |   | ]\n",
    "\n",
    "[ 1/4   2   3/2 ]\n",
    "[ 3/8  1/2 -1/4 ]\n",
    "[ 1/8 -1/2  1/4 ]\n",
    "\n",
    "\n",
    "\n",
    "\"\"\"\n",
    "M = matrix(QQ, [[1, 1, 3],\n",
    "                [0, 3, -1],\n",
    "                [1, 2, 0]])\n",
    "M = M.augment(vector(QQ, [2, -1, 1]), subdivide=True)\n",
    "print(M.rref())\n",
    "\n",
    "P = matrix(QQ, [[1/4, 2, 3/2],\n",
    "                [3/8, 1/2, -1/4],\n",
    "                [1/8, -1/2, 1/4]])\n",
    "\n",
    "print(P*answer_s) # Because this is equal to answer_t, we can verify that the identity works"
   ]
  },
  {
   "cell_type": "code",
   "execution_count": 6,
   "id": "455360d8",
   "metadata": {
    "vscode": {
     "languageId": "sage"
    }
   },
   "outputs": [
    {
     "name": "stdout",
     "output_type": "stream",
     "text": [
      "(0, 12/5, -1/5)\n"
     ]
    }
   ],
   "source": [
    "'''\n",
    "Given the identity: Q = P^(-1), we can just calculate the inverse of P\n",
    "[   0    2    2]\n",
    "[ 1/5  1/5   -1]\n",
    "[ 2/5 -3/5    1]\n",
    "'''\n",
    "Q = P^(-1)\n",
    "\n",
    "print(Q*answer_t) # Because this is equal to answer_t, we can verify that the identity works"
   ]
  }
 ],
 "metadata": {
  "kernelspec": {
   "display_name": "SageMath 10.7",
   "language": "sage",
   "name": "SageMath-10.7"
  },
  "language_info": {
   "codemirror_mode": {
    "name": "ipython",
    "version": 3
   },
   "file_extension": ".py",
   "mimetype": "text/x-python",
   "name": "python",
   "nbconvert_exporter": "python",
   "pygments_lexer": "ipython3",
   "version": "3.13.3"
  }
 },
 "nbformat": 4,
 "nbformat_minor": 5
}
